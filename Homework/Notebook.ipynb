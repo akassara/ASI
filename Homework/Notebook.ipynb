{
 "cells": [
  {
   "cell_type": "markdown",
   "metadata": {},
   "source": [
    "# ASI assessed exercise 2018/2019\n",
    "Amyn KASSARA"
   ]
  },
  {
   "cell_type": "markdown",
   "metadata": {},
   "source": [
    "## Initialization code"
   ]
  },
  {
   "cell_type": "code",
   "execution_count": 1,
   "metadata": {},
   "outputs": [],
   "source": [
    "%matplotlib inline\n",
    "import numpy as np\n",
    "import seaborn as sns\n",
    "import matplotlib.pyplot as plt\n",
    "from scipy import stats \n",
    "from pylab import meshgrid\n",
    "from matplotlib import cm \n",
    "import pandas as pd\n",
    "from sklearn.model_selection import train_test_split\n",
    "from scipy.sparse import csr_matrix, lil_matrix\n",
    "from time import time\n",
    "from sklearn.metrics import mean_squared_error, log_loss, confusion_matrix\n",
    "from sklearn import preprocessing\n",
    "from sklearn.metrics import accuracy_score\n",
    "from scipy.stats import multivariate_normal\n"
   ]
  },
  {
   "cell_type": "markdown",
   "metadata": {},
   "source": [
    "## Exercises  \n",
    "\n",
    " <b>Q1. Download and import the Santander dataset. The labels of the test data are not publicly available,so create your own test set by randomly choosing half of the instances in the original training set.</b>\n",
    "\n"
   ]
  },
  {
   "cell_type": "markdown",
   "metadata": {},
   "source": [
    "<div class='alert alert-success'>To import the Santander Dataset we are going to use the built-in function pandas.read_csv that reads a comma-separated values (csv) file into DataFrame.</div>"
   ]
  },
  {
   "cell_type": "code",
   "execution_count": 3,
   "metadata": {},
   "outputs": [],
   "source": [
    "# Read the .csv file:\n",
    "transactionDF = pd.read_csv('train.csv', error_bad_lines=False)\n",
    "# Choose a sample from the dataframe:\n",
    "Train, Test= train_test_split(transactionDF, random_state=42, test_size=.5)"
   ]
  },
  {
   "cell_type": "code",
   "execution_count": 4,
   "metadata": {},
   "outputs": [
    {
     "data": {
      "text/html": [
       "<div>\n",
       "<style scoped>\n",
       "    .dataframe tbody tr th:only-of-type {\n",
       "        vertical-align: middle;\n",
       "    }\n",
       "\n",
       "    .dataframe tbody tr th {\n",
       "        vertical-align: top;\n",
       "    }\n",
       "\n",
       "    .dataframe thead th {\n",
       "        text-align: right;\n",
       "    }\n",
       "</style>\n",
       "<table border=\"1\" class=\"dataframe\">\n",
       "  <thead>\n",
       "    <tr style=\"text-align: right;\">\n",
       "      <th></th>\n",
       "      <th>ID_code</th>\n",
       "      <th>target</th>\n",
       "      <th>var_0</th>\n",
       "      <th>var_1</th>\n",
       "      <th>var_2</th>\n",
       "      <th>var_3</th>\n",
       "      <th>var_4</th>\n",
       "      <th>var_5</th>\n",
       "      <th>var_6</th>\n",
       "      <th>var_7</th>\n",
       "      <th>...</th>\n",
       "      <th>var_190</th>\n",
       "      <th>var_191</th>\n",
       "      <th>var_192</th>\n",
       "      <th>var_193</th>\n",
       "      <th>var_194</th>\n",
       "      <th>var_195</th>\n",
       "      <th>var_196</th>\n",
       "      <th>var_197</th>\n",
       "      <th>var_198</th>\n",
       "      <th>var_199</th>\n",
       "    </tr>\n",
       "  </thead>\n",
       "  <tbody>\n",
       "    <tr>\n",
       "      <th>20237</th>\n",
       "      <td>train_20237</td>\n",
       "      <td>0</td>\n",
       "      <td>11.4978</td>\n",
       "      <td>-3.0777</td>\n",
       "      <td>11.9565</td>\n",
       "      <td>8.8948</td>\n",
       "      <td>11.2996</td>\n",
       "      <td>-10.4822</td>\n",
       "      <td>3.8270</td>\n",
       "      <td>11.4380</td>\n",
       "      <td>...</td>\n",
       "      <td>-6.0965</td>\n",
       "      <td>3.9164</td>\n",
       "      <td>-0.4457</td>\n",
       "      <td>-0.9721</td>\n",
       "      <td>21.6714</td>\n",
       "      <td>1.5506</td>\n",
       "      <td>6.3634</td>\n",
       "      <td>8.1350</td>\n",
       "      <td>21.6712</td>\n",
       "      <td>-8.5367</td>\n",
       "    </tr>\n",
       "    <tr>\n",
       "      <th>198821</th>\n",
       "      <td>train_198821</td>\n",
       "      <td>0</td>\n",
       "      <td>6.7885</td>\n",
       "      <td>0.7269</td>\n",
       "      <td>5.8945</td>\n",
       "      <td>5.4038</td>\n",
       "      <td>9.9259</td>\n",
       "      <td>-2.9944</td>\n",
       "      <td>5.4108</td>\n",
       "      <td>16.3829</td>\n",
       "      <td>...</td>\n",
       "      <td>6.1964</td>\n",
       "      <td>11.6020</td>\n",
       "      <td>3.5603</td>\n",
       "      <td>0.6766</td>\n",
       "      <td>20.0554</td>\n",
       "      <td>-1.5801</td>\n",
       "      <td>5.3351</td>\n",
       "      <td>8.6182</td>\n",
       "      <td>9.6734</td>\n",
       "      <td>-13.4286</td>\n",
       "    </tr>\n",
       "    <tr>\n",
       "      <th>188009</th>\n",
       "      <td>train_188009</td>\n",
       "      <td>0</td>\n",
       "      <td>8.6802</td>\n",
       "      <td>3.5310</td>\n",
       "      <td>7.9625</td>\n",
       "      <td>7.6073</td>\n",
       "      <td>11.0424</td>\n",
       "      <td>5.7768</td>\n",
       "      <td>4.3228</td>\n",
       "      <td>20.5002</td>\n",
       "      <td>...</td>\n",
       "      <td>7.9154</td>\n",
       "      <td>7.6972</td>\n",
       "      <td>1.6893</td>\n",
       "      <td>4.8253</td>\n",
       "      <td>17.6450</td>\n",
       "      <td>0.9720</td>\n",
       "      <td>-1.3828</td>\n",
       "      <td>7.3101</td>\n",
       "      <td>13.2607</td>\n",
       "      <td>-9.4329</td>\n",
       "    </tr>\n",
       "    <tr>\n",
       "      <th>12214</th>\n",
       "      <td>train_12214</td>\n",
       "      <td>0</td>\n",
       "      <td>13.1322</td>\n",
       "      <td>-0.5355</td>\n",
       "      <td>8.9295</td>\n",
       "      <td>9.2934</td>\n",
       "      <td>11.0048</td>\n",
       "      <td>-1.6971</td>\n",
       "      <td>5.3749</td>\n",
       "      <td>14.7257</td>\n",
       "      <td>...</td>\n",
       "      <td>8.5705</td>\n",
       "      <td>8.4554</td>\n",
       "      <td>1.4635</td>\n",
       "      <td>1.0137</td>\n",
       "      <td>14.6109</td>\n",
       "      <td>1.8852</td>\n",
       "      <td>8.9966</td>\n",
       "      <td>8.0651</td>\n",
       "      <td>19.3677</td>\n",
       "      <td>-14.6202</td>\n",
       "    </tr>\n",
       "    <tr>\n",
       "      <th>133939</th>\n",
       "      <td>train_133939</td>\n",
       "      <td>0</td>\n",
       "      <td>10.8787</td>\n",
       "      <td>-0.6815</td>\n",
       "      <td>5.0000</td>\n",
       "      <td>5.9295</td>\n",
       "      <td>9.3202</td>\n",
       "      <td>-3.5659</td>\n",
       "      <td>3.5086</td>\n",
       "      <td>18.0152</td>\n",
       "      <td>...</td>\n",
       "      <td>6.2816</td>\n",
       "      <td>7.1930</td>\n",
       "      <td>1.7058</td>\n",
       "      <td>-2.6972</td>\n",
       "      <td>21.1006</td>\n",
       "      <td>0.9372</td>\n",
       "      <td>-4.3809</td>\n",
       "      <td>8.9797</td>\n",
       "      <td>20.3274</td>\n",
       "      <td>-19.3787</td>\n",
       "    </tr>\n",
       "  </tbody>\n",
       "</table>\n",
       "<p>5 rows × 202 columns</p>\n",
       "</div>"
      ],
      "text/plain": [
       "             ID_code  target    var_0   var_1    var_2   var_3    var_4  \\\n",
       "20237    train_20237       0  11.4978 -3.0777  11.9565  8.8948  11.2996   \n",
       "198821  train_198821       0   6.7885  0.7269   5.8945  5.4038   9.9259   \n",
       "188009  train_188009       0   8.6802  3.5310   7.9625  7.6073  11.0424   \n",
       "12214    train_12214       0  13.1322 -0.5355   8.9295  9.2934  11.0048   \n",
       "133939  train_133939       0  10.8787 -0.6815   5.0000  5.9295   9.3202   \n",
       "\n",
       "          var_5   var_6    var_7   ...     var_190  var_191  var_192  var_193  \\\n",
       "20237  -10.4822  3.8270  11.4380   ...     -6.0965   3.9164  -0.4457  -0.9721   \n",
       "198821  -2.9944  5.4108  16.3829   ...      6.1964  11.6020   3.5603   0.6766   \n",
       "188009   5.7768  4.3228  20.5002   ...      7.9154   7.6972   1.6893   4.8253   \n",
       "12214   -1.6971  5.3749  14.7257   ...      8.5705   8.4554   1.4635   1.0137   \n",
       "133939  -3.5659  3.5086  18.0152   ...      6.2816   7.1930   1.7058  -2.6972   \n",
       "\n",
       "        var_194  var_195  var_196  var_197  var_198  var_199  \n",
       "20237   21.6714   1.5506   6.3634   8.1350  21.6712  -8.5367  \n",
       "198821  20.0554  -1.5801   5.3351   8.6182   9.6734 -13.4286  \n",
       "188009  17.6450   0.9720  -1.3828   7.3101  13.2607  -9.4329  \n",
       "12214   14.6109   1.8852   8.9966   8.0651  19.3677 -14.6202  \n",
       "133939  21.1006   0.9372  -4.3809   8.9797  20.3274 -19.3787  \n",
       "\n",
       "[5 rows x 202 columns]"
      ]
     },
     "execution_count": 4,
     "metadata": {},
     "output_type": "execute_result"
    }
   ],
   "source": [
    "Train.head()"
   ]
  },
  {
   "cell_type": "markdown",
   "metadata": {},
   "source": [
    " <b>Q2. Comment on the distribution of class labels and the dimensionality of the input and how these may\n",
    "affect the analysis.</b>"
   ]
  },
  {
   "cell_type": "markdown",
   "metadata": {},
   "source": [
    "<div class='alert alert-success'>The task of this exercice is to predict the value of target, let's identify the distribution of the values for this label.</div>"
   ]
  },
  {
   "cell_type": "code",
   "execution_count": 5,
   "metadata": {},
   "outputs": [
    {
     "data": {
      "image/png": "[encoded data removed]",
      "text/plain": [
       "<Figure size 432x288 with 1 Axes>"
      ]
     },
     "metadata": {
      "needs_background": "light"
     },
     "output_type": "display_data"
    }
   ],
   "source": [
    "#Target histogram of training data\n",
    "plt.hist(Train.target)\n",
    "plt.xlabel('Target')\n",
    "plt.ylabel('Occurrence')\n",
    "plt.show()"
   ]
  },
  {
   "cell_type": "code",
   "execution_count": 6,
   "metadata": {},
   "outputs": [
    {
     "data": {
      "text/plain": [
       "0    90040\n",
       "1     9960\n",
       "Name: target, dtype: int64"
      ]
     },
     "execution_count": 6,
     "metadata": {},
     "output_type": "execute_result"
    }
   ],
   "source": [
    "Train['target'].value_counts()"
   ]
  },
  {
   "cell_type": "code",
   "execution_count": 7,
   "metadata": {},
   "outputs": [
    {
     "name": "stdout",
     "output_type": "stream",
     "text": [
      "Percentage of zeros in training data 90.04\n"
     ]
    }
   ],
   "source": [
    "print(\"Percentage of zeros in training data\",100*90040/(9960+90040))"
   ]
  },
  {
   "cell_type": "markdown",
   "metadata": {},
   "source": [
    "<div class='alert alert-success'>The previous figure shows the label distribution in training set is extremely unbalanced, as we have way more zeros (90040) than ones (9960).  The problem with this kind of unbalanced distribution is that is could clead to the Accuracy paradox: Even a very simple model, that always gives 0 as output, could be extremely accurate. Therefore, evaluating the quality of our model could be problematic.</div>"
   ]
  },
  {
   "cell_type": "markdown",
   "metadata": {},
   "source": [
    "<div class='alert alert-success'> The Input dimensionality is the total number of columns mines two, as there is one output and one attribute containing the ID_code.</div>"
   ]
  },
  {
   "cell_type": "code",
   "execution_count": 8,
   "metadata": {},
   "outputs": [
    {
     "name": "stdout",
     "output_type": "stream",
     "text": [
      "Input Dimensionality is 200\n",
      "Number of Data points in training set: 100000\n"
     ]
    }
   ],
   "source": [
    "#Input Dimensionality\n",
    "print(\"Input Dimensionality is\", len(Train.columns)-2)\n",
    "#Number of data points in training set\n",
    "print(\"Number of Data points in training set:\", len(Train))"
   ]
  },
  {
   "cell_type": "markdown",
   "metadata": {},
   "source": [
    "<div class='alert alert-success'>Each input will be represented as a vector of 201 elements.\n",
    "We have 100000 samples for training, and 100000 samples for testing.\n",
    "As a general rule of thumb, size of training dataset should be at-least about 10x it's dimension and should be independent of the model used. Thus this empirical \"rule\" is respected .</div>"
   ]
  },
  {
   "cell_type": "markdown",
   "metadata": {},
   "source": [
    "### Bayesian Linear Regression"
   ]
  },
  {
   "cell_type": "markdown",
   "metadata": {},
   "source": [
    " <b>Q3.a. Implement Bayesian linear regression (you should already have an\n",
    "implementation from the lab sessions).</b>"
   ]
  },
  {
   "cell_type": "code",
   "execution_count": 9,
   "metadata": {},
   "outputs": [],
   "source": [
    "class BayesianLinearRegression(object):\n",
    "    #The first method serves to initiate a BayesianLinearRegression model.\n",
    "    def __init__(self, n_samples=10):\n",
    "        self.N_SAMPLES = n_samples\n",
    "        print(\"Created new instance of Bayesian Linear Regression\")\n",
    "\n",
    "    #The second method serves to fit the input to the corresponding shape.    \n",
    "    def _X(data):\n",
    "        data = data.reshape(-1, np.prod(data[0].shape))\n",
    "        X = np.ones((len(data), 1))\n",
    "        X = np.hstack((X, data))\n",
    "        return X\n",
    "    \n",
    "    \n",
    "    #The third BayesianLinearRegression.fit()  serves to train the model,    \n",
    "    def fit(self, data, labels):\n",
    "        #We keep track of the training time\n",
    "        t0 = time()\n",
    "        \n",
    "        labels=labels.T   \n",
    "        X = BayesianLinearRegression._X(data)\n",
    "        X_T = X.T\n",
    "        X_T_X = X_T.dot(X)\n",
    "        shape = X.shape[1]\n",
    "        self._inv = np.linalg.inv(X_T_X)\n",
    "        \n",
    "        #Here we compute the parameters given by the maximum likelihood estimation\n",
    "        self.w_hat = self._inv.dot(X_T).dot(labels)\n",
    "        epsilon = labels - X.dot(self.w_hat)\n",
    "        self.sig_hat = epsilon.T.dot(epsilon)/len(labels)\n",
    "        \n",
    "        #S is the covariance matrix of the prior Gaussian distribution, we will analyze this choice later\n",
    "        S = np.eye(X.shape[1])\n",
    "        S_inv = np.linalg.inv(S)\n",
    "        X_T_t = X_T.dot(labels)\n",
    "        \n",
    "        #Here we compute the parameters of the posterior distribution\n",
    "        self.sig_post = np.linalg.inv(X_T_X/self.sig_hat + S_inv) \n",
    "        self.mu_post = self.sig_post.dot(X_T_t)/self.sig_hat\n",
    "        t1 = time()\n",
    "        print(\"Built model in {:.2f} seconds\".format(t1-t0))\n",
    "        return\n",
    "    \n",
    "     # bayesian linear regression\n",
    "    def predict_bayes(self, data):\n",
    "        t0 = time()\n",
    "        X = BayesianLinearRegression._X(data)\n",
    "        \n",
    "        # Compute N_SAMPLES predictions and then average\n",
    "        t_pred = np.zeros((self.N_SAMPLES, len(X)))\n",
    "        for i in np.arange(self.N_SAMPLES):\n",
    "            w_sample = np.random.multivariate_normal(self.mu_post.T.ravel(), self.sig_post ).T\n",
    "            t_pred[i] = X.dot(w_sample).reshape(-1)\n",
    "        t1 = time()\n",
    "        print(\"Classification time [bayesian linear regression] {:.2f} seconds\".format(t1-t0))\n",
    "        return np.mean(t_pred, axis=0)\n",
    "    \n",
    "    def validate(self, correct, raw):\n",
    "        \n",
    "        mse = mean_squared_error(correct, raw)\n",
    "        \n",
    "        return mse"
   ]
  },
  {
   "cell_type": "markdown",
   "metadata": {},
   "source": [
    " <b>Q3.b.Discuss how can you select the (hyper-)parameters for the Gaussian prior</b> "
   ]
  },
  {
   "cell_type": "markdown",
   "metadata": {},
   "source": [
    "<div class='alert alert-success'>The parameters of the Gaussian prior are its mean and variance. In our implementation, we set the mean to zero and the variance to the identity matrix.Since we have a lot of data, the choice of the prior won't have a great impact. However  we can explain this choice with the following points:\n",
    "\n",
    "1) We set the mean of the prior distribution to zero as our data is difficult ot interpret. The prior indicates our prior belief in the variables, here we don't know anything about the variables, by using a zero mean prior we preserve the potential symetrie of the model and we let the data speak.\n",
    "\n",
    "2) For the covariance matrix, we choose a simple identity matrix for the same reason. We prefer to use a simple model that is symetric, in order not to import a potenial asymetrie in the variables.\n",
    "<div>"
   ]
  },
  {
   "cell_type": "markdown",
   "metadata": {},
   "source": [
    " <b>Q3.c.Write code that calculates the N-th order polynomial transformation of the\n",
    "input data. For simplicity, do not consider polynomials of more than one variable\n",
    "(such as x2y), but raise each input variable to the power of N individually.\n",
    "Consider N=1, 2, 3, and 6.</b> "
   ]
  },
  {
   "cell_type": "code",
   "execution_count": 10,
   "metadata": {},
   "outputs": [],
   "source": [
    "#Here we increase the dimension of the input data X by adding simple polynomial transformations of order 2,3 \n",
    "#and 6\n",
    "def Poly_transform(X,N):\n",
    "    X_new = np.column_stack((X, np.power(X,N)))\n",
    "    return X_new\n",
    "            "
   ]
  },
  {
   "cell_type": "markdown",
   "metadata": {},
   "source": [
    " <b>Q3.d.Describe any additional pre-processing that you suggest for this data</b> "
   ]
  },
  {
   "cell_type": "markdown",
   "metadata": {},
   "source": [
    "<div class='alert alert-success'>\n",
    "\n",
    "1) The first preprocessing step that we could thing of is the normalization of the data. Normalization is the process of scaling individual samples to have unit norm. This process can be useful when we plan to use a quadratic form such as the dot-product or any other kernel to quantify the similarity of any pair of samples.\n",
    "\n",
    "\n",
    "<div>"
   ]
  },
  {
   "cell_type": "code",
   "execution_count": 11,
   "metadata": {},
   "outputs": [],
   "source": [
    "def normalize(X,norm):\n",
    "    X_normalized = preprocessing.normalize(X, norm)\n",
    "    return X_normalized"
   ]
  },
  {
   "cell_type": "markdown",
   "metadata": {},
   "source": [
    "<div class='alert alert-success'>\n",
    "\n",
    "2) We also can remove the outliers. To remove outliers, we will delete the rows that contain an absurd value in at least one column. By absurd here, we mean a value that has a zscore greater than 3. The intuition behind Z-score is to describe any data point by finding their relationship with the Standard Deviation and Mean of the group of data points. To calculate Z-score we re-scale and center the data and look for data points which are too far from zero. Thus a vector that has a high zcore will be far from zero, and will be considered as an outlier.\n",
    "\n",
    "\n",
    "<div>"
   ]
  },
  {
   "cell_type": "code",
   "execution_count": 12,
   "metadata": {},
   "outputs": [
    {
     "name": "stdout",
     "output_type": "stream",
     "text": [
      "Percentage of lost data points: 5.5155\n"
     ]
    }
   ],
   "source": [
    "# Firt we create the dataframe of attributes numerical values:\n",
    "numerical_val = transactionDF.select_dtypes(include=[np.number])\n",
    "numerical_val= numerical_val.drop([\"target\"],axis=1)\n",
    "#Then we only keep rows where there is no attribute which zscore is smaller than 3\n",
    "n=len(transactionDF)\n",
    "transactionDF =transactionDF[(np.abs(stats.zscore(numerical_val)) < 3).all(axis=1)]\n",
    "print(\"Percentage of lost data points:\", 100*(n-len(transactionDF))/n)"
   ]
  },
  {
   "cell_type": "markdown",
   "metadata": {},
   "source": [
    " <b>Q3.e.Treat class labels as continuous and apply regression to the training data.\n",
    "Also, calculate the posterior variance of the weights</b> "
   ]
  },
  {
   "cell_type": "code",
   "execution_count": 13,
   "metadata": {},
   "outputs": [
    {
     "name": "stdout",
     "output_type": "stream",
     "text": [
      "Created new instance of Bayesian Linear Regression\n",
      "Built model in 1.61 seconds\n",
      "Classification time [bayesian linear regression] 0.88 seconds\n"
     ]
    }
   ],
   "source": [
    "X_train = Train.drop([\"target\",\"ID_code\"],axis=1)\n",
    "T_train = Train[\"target\"]\n",
    "X_test = Test.drop([\"target\",\"ID_code\"],axis=1)\n",
    "T_test = Test[\"target\"]\n",
    "\n",
    "x_train = lil_matrix(X_train).toarray()\n",
    "x_train= normalize(x_train,'l2')\n",
    "x_train_N= Poly_transform(x_train,3) \n",
    "\n",
    "\n",
    "\n",
    "t_train = lil_matrix(T_train).toarray()\n",
    "\n",
    "x_test = lil_matrix(X_test).toarray()\n",
    "x_test= normalize(x_test,'l2')\n",
    "x_test_N= Poly_transform(x_test,3) \n",
    "\n",
    "\n",
    "model = BayesianLinearRegression()\n",
    "model.fit(x_train_N, t_train)\n",
    "predicted_blr = model.predict_bayes(x_test_N)"
   ]
  },
  {
   "cell_type": "code",
   "execution_count": 14,
   "metadata": {},
   "outputs": [
    {
     "name": "stdout",
     "output_type": "stream",
     "text": [
      "Posterior variance of the weights is [[ 3.65683355e-03 -2.91174922e-04  3.16539529e-05 ...  3.10765214e-04\n",
      "   1.64828862e-03  3.04159418e-03]\n",
      " [-2.91174922e-04  2.32550642e-03 -1.11927063e-06 ...  4.20182536e-07\n",
      "   1.55605971e-05 -3.39761585e-04]\n",
      " [ 3.16539529e-05 -1.11927063e-06  1.18236603e-03 ... -1.42755564e-06\n",
      "   1.58396233e-05  2.70563030e-05]\n",
      " ...\n",
      " [ 3.10765214e-04  4.20182536e-07 -1.42755564e-06 ...  9.99847347e-01\n",
      "  -1.51841402e-05 -1.92120686e-05]\n",
      " [ 1.64828862e-03  1.55605971e-05  1.58396233e-05 ... -1.51841402e-05\n",
      "   9.77240946e-01 -5.32000064e-05]\n",
      " [ 3.04159418e-03 -3.39761585e-04  2.70563030e-05 ... -1.92120686e-05\n",
      "  -5.32000064e-05  7.29201504e-01]]\n"
     ]
    }
   ],
   "source": [
    "print(\"Posterior variance of the weights is\", model.sig_post)"
   ]
  },
  {
   "cell_type": "markdown",
   "metadata": {},
   "source": [
    " <b>Q3.f.Suggest a way to discretize predictions and display the confusion matrix on the\n",
    "test data and report accuracy</b> "
   ]
  },
  {
   "cell_type": "markdown",
   "metadata": {},
   "source": [
    "<div class='alert alert-success'>\n",
    "\n",
    "To discretize the predictions the most intuitive idea  would be to round the result to the closest integer.\n",
    "\n",
    "\n",
    "<div>"
   ]
  },
  {
   "cell_type": "code",
   "execution_count": 15,
   "metadata": {},
   "outputs": [],
   "source": [
    "\n",
    "labels =(predicted_blr > 0.5).astype(np.int) "
   ]
  },
  {
   "cell_type": "code",
   "execution_count": 16,
   "metadata": {},
   "outputs": [
    {
     "name": "stdout",
     "output_type": "stream",
     "text": [
      "Bayesian linear regression accuracy: 90.15%\n"
     ]
    },
    {
     "data": {
      "image/png": "[encoded data removed]",
      "text/plain": [
       "<Figure size 720x360 with 1 Axes>"
      ]
     },
     "metadata": {
      "needs_background": "light"
     },
     "output_type": "display_data"
    }
   ],
   "source": [
    "conf = confusion_matrix(T_test, labels)\n",
    "fig, ax = plt.subplots(figsize=(10, 5))\n",
    "\n",
    "\n",
    "print(\"Bayesian linear regression accuracy: {:.2f}%\"\n",
    "      .format(100*accuracy_score(T_test, labels)))\n",
    "\n",
    "\n",
    "sns.heatmap(conf, cbar=False, cmap='Blues', annot=True, ax=ax)\n",
    "ax.set_title('Confusion matrix for order 1')\n",
    "ax.set(xlabel='Predicted label', ylabel='True label')\n",
    "plt.show()"
   ]
  },
  {
   "cell_type": "markdown",
   "metadata": {},
   "source": [
    " <b>Q3.g. Discuss the performance, compare it against a classifier that outputs random\n",
    "class labels.</b> "
   ]
  },
  {
   "cell_type": "markdown",
   "metadata": {},
   "source": [
    "<div class='alert alert-success'>\n",
    "\n",
    "In our dataset, we have have 90% of the data with a label equal to zero. Thus we create a classifier that predict a zero 90% of the time.\n",
    "\n",
    "<div>"
   ]
  },
  {
   "cell_type": "code",
   "execution_count": 17,
   "metadata": {},
   "outputs": [
    {
     "name": "stdout",
     "output_type": "stream",
     "text": [
      "Random classification accuracy: 82.19%\n",
      "Constant classification accuracy: 89.86%\n"
     ]
    }
   ],
   "source": [
    "random_labels= np.random.choice(2,len(T_test),p=[0.9,0.1])\n",
    "print(\"Random classification accuracy: {:.2f}%\"\n",
    "      .format(100*accuracy_score(T_test, random_labels)))\n",
    "print(\"Constant classification accuracy: {:.2f}%\"\n",
    "      .format(100*accuracy_score(T_test, np.array([0 for k in range(len(T_test))]))))\n"
   ]
  },
  {
   "cell_type": "markdown",
   "metadata": {},
   "source": [
    "<div class='alert alert-success'>\n",
    "\n",
    "The encountered problem is the Accuracy Paradox that we saw in the first question. A random or even constant classifier is capable of  achieving an accuracy that is very close to the one obtained with a Bayesian Linear Regression. Therefore, the model used in this question doesn't fit to the data. Thus we could doubt of the initial hypothesis of a Bayesian Linear Regression which is that there is a linear relation between the input and the output of the classifier.\n",
    "\n",
    "<div>"
   ]
  },
  {
   "cell_type": "markdown",
   "metadata": {},
   "source": [
    "### Logistic Regression"
   ]
  },
  {
   "cell_type": "code",
   "execution_count": 18,
   "metadata": {},
   "outputs": [],
   "source": [
    "# Read the .csv file:\n",
    "transactionDF = pd.read_csv('train.csv', error_bad_lines=False)\n",
    "# Choose a sample from the dataframe:\n",
    "Train, Test= train_test_split(transactionDF, random_state=42, test_size=.5)"
   ]
  },
  {
   "cell_type": "code",
   "execution_count": 19,
   "metadata": {},
   "outputs": [],
   "source": [
    "X_train = Train.drop([\"target\",\"ID_code\"],axis=1)\n",
    "T_train = Train[\"target\"]\n",
    "X_test = Test.drop([\"target\",\"ID_code\"],axis=1)\n",
    "T_test = Test[\"target\"]\n",
    "\n",
    "x_train = lil_matrix(X_train).toarray()\n",
    "x_train= normalize(x_train,'l2')\n",
    "\n",
    "\n",
    "t_train = np.array(T_train)\n",
    "\n",
    "x_test = lil_matrix(X_test).toarray()\n",
    "x_test= normalize(x_test,'l2')"
   ]
  },
  {
   "cell_type": "markdown",
   "metadata": {},
   "source": [
    " <b>Q4.a. The goal is to implement a logistic regression classifier that optimizes for the\n",
    "Maximum a Posteriori (MAP) estimate; assume a Gaussian prior on the parameters.\n",
    "As a first step, write a function that calculates the gradient of the joint likelihood.</b> "
   ]
  },
  {
   "cell_type": "markdown",
   "metadata": {},
   "source": [
    "<div class='alert alert-success'>\n",
    "\n",
    "The objective function of our optimization algorithm would be the product of the Gaussian prior and the joint likelihood. To make the computation more simple we introduce the logarithm, thus the objective function will be the following:\n",
    "\n",
    "$$g(w)= log(p(w|\\sigma^2))+ \\Sigma_{n=1}^N log(p(t_n|x_n,w)) $$\n",
    "\n",
    "Therefore, if we consider that the prior is a Gaussian and that the model is a logistic regression, the objective function will be:\n",
    "$$g(w)=-\\frac{D}{2}log(2\\pi)- \\frac{1}{2\\sigma}w^{T}w + \\Sigma_{n=1}^N -log(1+exp(-t_{n}w^{T}x_n))$$\n",
    "\n",
    "Where $D$ is the dimensionality of the problem ($D=200$), and $\\sigma$ the parameter of the considered covariance diagonal matrix . \n",
    "\n",
    "$\\frac{D}{2}log(2\\pi)$ is a constant parameter. Therefore we can remove it for the optimisation.\n",
    "\n",
    "The gradient of the objective is:\n",
    "$$ \\nabla g_{w}(w)= \\Sigma_{n=1}^N (1-\\sigma(t_{n}w^{T}x_{n}))t_{n}x_{n} - \\frac{w}{\\sigma}$$ \n",
    "<div>"
   ]
  },
  {
   "cell_type": "code",
   "execution_count": 36,
   "metadata": {},
   "outputs": [],
   "source": [
    "D=200\n",
    "sigma=10\n",
    "cov_matrix= sigma*np.eye(D+1)\n",
    "\n",
    "def sigmoid(x):\n",
    "    return 1/(1+np.exp(-x))\n",
    "\n",
    "def g(w,X,t):\n",
    "    G= 0\n",
    "    for n in range(np.shape(X)[0]):\n",
    "        G=G - np.log(1+ np.exp(-t[n]*w.dot(X[n,:])))\n",
    "    \n",
    "    return G-0.5* w.dot(w.T)/sigma\n",
    "\n",
    "def nabla_g(w,X,t):\n",
    "    s = np.dot(t-sigmoid(X.dot(w.T)).T , X)\n",
    "    return -w/sigma +s\n",
    "    \n"
   ]
  },
  {
   "cell_type": "markdown",
   "metadata": {},
   "source": [
    " <b>Q4.b. Write a simple gradient descend algorithm that uses the gradients calculated\n",
    "by the function of previous question to converge to the MAP estimate.</b> "
   ]
  },
  {
   "cell_type": "code",
   "execution_count": 37,
   "metadata": {},
   "outputs": [],
   "source": [
    "#This function transforms the input to the corresponding shape to add the bias\n",
    "def transform_input(x):\n",
    "    one = np.ones((x.shape[0],1))\n",
    "    return np.concatenate((one,x) , axis=1)\n",
    "\n",
    "def gradient_descent( X,t,w, learning_rate , epochs):\n",
    "    \n",
    "    c = 1\n",
    "    w_hat = w\n",
    "    while c <= epochs:\n",
    "        gradient = nabla_g(w_hat , X , t)\n",
    "        w_hat = w_hat + learning_rate*gradient\n",
    "        c=c+1\n",
    "        \n",
    "    return w_hat"
   ]
  },
  {
   "cell_type": "code",
   "execution_count": 84,
   "metadata": {},
   "outputs": [],
   "source": [
    "X_train= transform_input(x_train)\n",
    "t_train= np.array(t_train)\n",
    "\n",
    "#Gradient descent algorithm\n",
    "learning_rate= 0.0001\n",
    "n_epochs= 1000\n",
    "w = np.random.rand(201)\n",
    "w_hat = gradient_descent(X_train,t_train,w,learning_rate,n_epochs)"
   ]
  },
  {
   "cell_type": "markdown",
   "metadata": {},
   "source": [
    " <b>Q4.c. Comment on the convexity of the problem; do you need multiple restarts in order\n",
    "to obtain a solution sufficiently close to the global optimum?</b> "
   ]
  },
  {
   "cell_type": "markdown",
   "metadata": {},
   "source": [
    "<div class='alert alert-success'>\n",
    "\n",
    "Let's check the convexity of our problem by computing the Hessian of the objective function $g$:\n",
    "\n",
    "$$g(w)=- \\frac{1}{2}w^{T}w + \\Sigma_{n=1}^N -log(1+exp(-t_{n}w^{T}x_n))$$\n",
    "\n",
    "Therefore the Hessian is:\n",
    "\n",
    "$$\\nabla^2 g_{w}(w)= \\frac{d^{2}g}{dwdw^T}(w)$$\n",
    "\n",
    "Then:\n",
    "$$\\nabla^2 g_{w}(w)= -\\Sigma_{n=1}^N \\sigma(w^{T}x_{n})(1-\\sigma(t_{n}w^{T}x_{n}))x_{n}x^{T}_n +I$$\n",
    "\n",
    "Which in matrix form could be written:\n",
    "$$\\nabla^2 g_{w}(w)= -(XDX^T + I)$$\n",
    "\n",
    "Where:\n",
    "$$ D=diag(\\sigma(w^{T}x_{n})(1-\\sigma(t_{n}w^{T}x_{n})))_{1\\leq n \\leq N}$$\n",
    "\n",
    "For every $w$, the matrix $D$ is positive-definite because its eigenvalues are positive as $\\sigma$ is a function which values are between $0$ and $1$. Then the matrix $XDX^T$ is also positive definite. $I$ is positive definite.\n",
    "\n",
    "Therefore $XDX^T + I$ is definite postive. Therefore for every $w$, the Hessian is negative-definite, which means that the objective function is concave. Therefore it admits a unique global maximum and the gradient descent algorithm always converge to this maximum, for any initial $w$. Thus there is no need for multiple restarts.\n",
    "\n",
    "\n",
    "<div>"
   ]
  },
  {
   "cell_type": "markdown",
   "metadata": {},
   "source": [
    " <b>Q4.d. Report the confusion matrix and classification accuracy on the test data.\n",
    "Discuss logistic regression performance with respect to the performance of\n",
    "Bayesian linear regression</b> "
   ]
  },
  {
   "cell_type": "code",
   "execution_count": 85,
   "metadata": {},
   "outputs": [],
   "source": [
    "X_test= transform_input(x_test)\n",
    "#Output\n",
    "t_test = np.array(T_test)"
   ]
  },
  {
   "cell_type": "code",
   "execution_count": 86,
   "metadata": {},
   "outputs": [],
   "source": [
    "predicted_log= sigmoid(X_test.dot(w_hat.T))\n",
    "labels = (predicted_log > 0.5).astype(np.int)"
   ]
  },
  {
   "cell_type": "code",
   "execution_count": 87,
   "metadata": {},
   "outputs": [
    {
     "name": "stdout",
     "output_type": "stream",
     "text": [
      "Logistic regression accuracy: 90.03%\n"
     ]
    },
    {
     "data": {
      "image/png": "[encoded data removed]",
      "text/plain": [
       "<Figure size 720x360 with 1 Axes>"
      ]
     },
     "metadata": {
      "needs_background": "light"
     },
     "output_type": "display_data"
    }
   ],
   "source": [
    "conf = confusion_matrix(t_test, labels)\n",
    "fig, ax = plt.subplots(figsize=(10, 5))\n",
    "\n",
    "\n",
    "print(\"Logistic regression accuracy: {:.2f}%\"\n",
    "      .format(100*accuracy_score(T_test, labels)))\n",
    "\n",
    "\n",
    "sns.heatmap(conf, cbar=False, cmap='Blues', annot=True, ax=ax)\n",
    "ax.set_title('Confusion matrix')\n",
    "ax.set(xlabel='Predicted label', ylabel='True label')\n",
    "plt.show()"
   ]
  },
  {
   "cell_type": "markdown",
   "metadata": {},
   "source": [
    "<div class='alert alert-success'>\n",
    "\n",
    "Therefore, the results using the Logistic Regression don't seem to be accurate as the accuracy of this model is smaller than the previous one, which was a simpler linear model. This could be due to the  gradient descent algorithm that could converge too slowly to a maximum in case of a bad choice of  learning rate or a bad choice of initial point. To decrease the influence of these hyperparameters, we could improve the gradient descent algorithm, by changing the learning rate at each iteration with a backtracking line search for example. \n",
    "\n",
    "However, there is no substantial problem in the hyposthesis that we made, in contrary of the Bayesian linear model. The challenge remains in the optimization part, which is purely mathematic, and where we could have better results using more complex algorithms like the Newton method.\n",
    "\n",
    "\n",
    "\n",
    "<div>"
   ]
  },
  {
   "cell_type": "markdown",
   "metadata": {},
   "source": [
    " <b>Q4.e. Laplace approximation is an efficient way to obtain an approximate\n",
    "posterior for logistic regression. Describe the steps of this approach. What is the form obtained?</b> "
   ]
  },
  {
   "cell_type": "markdown",
   "metadata": {},
   "source": [
    "<div class='alert alert-success'>\n",
    "\n",
    "We can only evaluate the posterior distribution up to a constant: we can evaluate the joint probability $p(t|X,w, \\sigma^2)p(w|\\sigma^2)$, but not the normalizer $p(t|X, \\sigma^2)$. What we could do is to match the shape of the posterior using joint probability, and then the approximation can be used to approximate  $p(t|X, \\sigma^2)$. The Laplace approximation sets the mode of the Gaussian approximation to the mode of the posterior distribution, and matches the curvature of the log probability density at that location. \n",
    "\n",
    "To do this, we compute first the optimal $w^*$ that maximizes the joint likelihood, like we did in the MAP estimate. Then we compute the Hessian Matrix of the objective function ( which expression was given in Q4.c) to determine the properties of the Gaussian approximation as the Hessian tells us how sharply the distribution is peaked in different directions.\n",
    "\n",
    "After this, we would have an approximation of the posterior probability, and as we already know the expression of the joint probability, it would be possible  to find an approximation of the normalizer, which would be:\n",
    "$$p(t|X, \\sigma^2)= p(t|X,w, \\sigma^2)p(w|\\sigma^2)|2\\pi H^{-1}|^{\\frac{1}{2}} $$\n",
    "\n",
    "Where $H$ is the Hessian Matrix.\n",
    "\n",
    "<div>"
   ]
  }
 ],
 "metadata": {
  "kernelspec": {
   "display_name": "Python 3",
   "language": "python",
   "name": "python3"
  },
  "language_info": {
   "codemirror_mode": {
    "name": "ipython",
    "version": 3
   },
   "file_extension": ".py",
   "mimetype": "text/x-python",
   "name": "python",
   "nbconvert_exporter": "python",
   "pygments_lexer": "ipython3",
   "version": "3.7.1"
  }
 },
 "nbformat": 4,
 "nbformat_minor": 2
}
